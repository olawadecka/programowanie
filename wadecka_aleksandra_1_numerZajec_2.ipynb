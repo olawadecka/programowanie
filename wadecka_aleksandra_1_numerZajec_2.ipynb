{
  "nbformat": 4,
  "nbformat_minor": 0,
  "metadata": {
    "colab": {
      "provenance": []
    },
    "kernelspec": {
      "name": "python3",
      "display_name": "Python 3"
    },
    "language_info": {
      "name": "python"
    }
  },
  "cells": [
    {
      "cell_type": "markdown",
      "source": [
        "Zadanie 1"
      ],
      "metadata": {
        "id": "VuIi7O4_wl_D"
      }
    },
    {
      "cell_type": "code",
      "source": [
        "x = \"Uwielbiam zajęcia z programowania\" #zmienna_str\n",
        "print(x.find(\"ę\")) #do zadania, by wiedzieć, gdzie zacząć\n",
        "print(x.find(\"o\")) #do zdania, by wiedzieć, gdzie skończyć"
      ],
      "metadata": {
        "colab": {
          "base_uri": "https://localhost:8080/"
        },
        "id": "C8dFZxqQ3LNA",
        "outputId": "fe184b17-dd71-4ce6-a790-66649c57fd89"
      },
      "execution_count": 80,
      "outputs": [
        {
          "output_type": "stream",
          "name": "stdout",
          "text": [
            "13\n",
            "22\n"
          ]
        }
      ]
    },
    {
      "cell_type": "code",
      "source": [
        "x = \"Uwielbiam zajęcia z programowania\" #zmienna_str\n",
        "result = x[13:23]\n",
        "print(result)"
      ],
      "metadata": {
        "colab": {
          "base_uri": "https://localhost:8080/"
        },
        "id": "wIhoU6TRwodv",
        "outputId": "fe21726f-12cd-4de8-93a1-a1bd87aaed4c"
      },
      "execution_count": 79,
      "outputs": [
        {
          "output_type": "stream",
          "name": "stdout",
          "text": [
            "ęcia z pro\n"
          ]
        }
      ]
    },
    {
      "cell_type": "code",
      "source": [
        "result_2 = x[::-1]\n",
        "print(result_2)"
      ],
      "metadata": {
        "colab": {
          "base_uri": "https://localhost:8080/"
        },
        "id": "v_D0JGvQ2PGi",
        "outputId": "34095a60-0e45-457e-bb16-431efd9b4ee0"
      },
      "execution_count": 51,
      "outputs": [
        {
          "output_type": "stream",
          "name": "stdout",
          "text": [
            "ainawomargorp z aicęjaz maibleiwU\n"
          ]
        }
      ]
    },
    {
      "cell_type": "code",
      "source": [
        "result_3 = x[1::3] #co trzeci znak zaczynając od 2(włącznie)\n",
        "print(result_3)"
      ],
      "metadata": {
        "colab": {
          "base_uri": "https://localhost:8080/"
        },
        "id": "7GmhGMKc2afH",
        "outputId": "0215500e-0338-4116-9aea-b8cb44b1c2ed"
      },
      "execution_count": 50,
      "outputs": [
        {
          "output_type": "stream",
          "name": "stdout",
          "text": [
            "wlazęa oawi\n"
          ]
        }
      ]
    },
    {
      "cell_type": "markdown",
      "source": [
        "Zadanie 2"
      ],
      "metadata": {
        "id": "lhLsewHO6Cl-"
      }
    },
    {
      "cell_type": "code",
      "source": [
        "y = \"Czarny to mój ulubiony kolor, niestety, kolor czarny bardzo szybko spiera się z moich ubrań\"\n",
        "print(y.istitle())"
      ],
      "metadata": {
        "colab": {
          "base_uri": "https://localhost:8080/"
        },
        "id": "etQbezSL6EcH",
        "outputId": "6a502bf5-ad02-4a27-edf8-702927027196"
      },
      "execution_count": 60,
      "outputs": [
        {
          "output_type": "stream",
          "name": "stdout",
          "text": [
            "False\n"
          ]
        }
      ]
    },
    {
      "cell_type": "code",
      "source": [
        "print(y.startswith(\"C\"))"
      ],
      "metadata": {
        "colab": {
          "base_uri": "https://localhost:8080/"
        },
        "id": "DUbS9tcS8rOg",
        "outputId": "d232d8c0-a14b-43f4-eca5-8745ddafb060"
      },
      "execution_count": 47,
      "outputs": [
        {
          "output_type": "stream",
          "name": "stdout",
          "text": [
            "True\n"
          ]
        }
      ]
    },
    {
      "cell_type": "code",
      "source": [
        "z = y.lower()\n",
        "a = z.replace(\"czarny\", \"biały\")\n",
        "a.capitalize()"
      ],
      "metadata": {
        "colab": {
          "base_uri": "https://localhost:8080/",
          "height": 35
        },
        "id": "hC6vou_881jH",
        "outputId": "58caff1c-9407-4e43-db45-5eef348b4fce"
      },
      "execution_count": 77,
      "outputs": [
        {
          "output_type": "execute_result",
          "data": {
            "text/plain": [
              "'Biały to mój ulubiony kolor, niestety, kolor biały bardzo szybko spiera się z moich ubrań'"
            ],
            "application/vnd.google.colaboratory.intrinsic+json": {
              "type": "string"
            }
          },
          "metadata": {},
          "execution_count": 77
        }
      ]
    }
  ]
}