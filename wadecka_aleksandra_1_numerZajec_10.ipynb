{
  "nbformat": 4,
  "nbformat_minor": 0,
  "metadata": {
    "colab": {
      "provenance": []
    },
    "kernelspec": {
      "name": "python3",
      "display_name": "Python 3"
    },
    "language_info": {
      "name": "python"
    }
  },
  "cells": [
    {
      "cell_type": "code",
      "execution_count": null,
      "metadata": {
        "id": "5zzqoOE-dPVQ"
      },
      "outputs": [],
      "source": [
        "import spacy\n",
        "!pip install spacy -U\n",
        "!python -m spacy download pl_core_news_sm\n",
        "nlp = spacy.load(\"pl_core_news_sm\")"
      ]
    },
    {
      "cell_type": "code",
      "source": [
        "tekst = (\"\"\"Olga Nawoja Tokarczuk (ur. 29 stycznia 1962 w Sulechowie) – polska pisarka, eseistka, poetka i autorka scenariuszy, laureatka Nagrody Nobla w dziedzinie literatury za rok 2018, laureatka The Man Booker International Prize 2018 za powieść Bieguni (Flights) oraz dwukrotna laureatka Nagrody Literackiej „Nike” za powieści: Bieguni (2008) i Księgi Jakubowe (2015). Życiorys Córka nauczycieli – Wandy i Józefa Tokarczuków. Ma siostrę. Urodziła się w Sulechowie, a wychowała w Klenicy, skąd przeniosła się z rodzicami do Kietrza. Tam ukończyła Liceum Ogólnokształcące im. Cypriana Kamila Norwida. Jest absolwentką Wydziału Psychologii Uniwersytetu Warszawskiego. W czasie studiów, jako wolontariuszka opiekowała się osobami z problemami psychicznymi. Zainteresowała się również pracami Carla Junga, co wywarło wpływ na jej twórczość. Po studiach pracowała jako psychoterapeutka w poradni zdrowia psychicznego w Wałbrzychu. Z pierwszego małżeństwa, zawartego w 1985, z wydawcą Romanem Fingasem ma syna, Zbigniewa (ur. 1986). Jej obecnym mężem jest Grzegorz Zygadło. Jest wegetarianką. Mieszka we Wrocławiu i posiada dom w Krajanowie. Twórczość Zadebiutowała w 1979 na łamach pisma „Na przełaj”, gdzie pod pseudonimem „Natasza Borodin” opublikowała pierwsze opowiadania. Jako powieściopisarka zadebiutowała w 1993 wydaną wówczas Podróżą ludzi Księgi. Książka uzyskała nagrodę Polskiego Towarzystwa Wydawców Książek. Publikowała m.in. w „Mandragorze”. W latach 1997-2000 była stałą współpracowniczką czasopisma „Charaktery”, pisząc dlań eseje. W 1995 ukazała się jej druga powieść, E.E. Książka opowiada o dojrzewaniu dziewczynki, która nagle uzyskuje zdolności parapsychiczne. Dużym sukcesem Tokarczuk okazała się wydana w 1996 powieść Prawiek i inne czasy. Rok 1997 przyniósł zbiór opowiadań zatytułowany Szafa, a w 1998 pisarka opublikowała powieść pt. Dom dzienny, dom nocny. W 2004 ukazały się Ostatnie historie. Książka ta składa się z trzech oddzielnych opowieści o babce, matce i wnuczce, ukazanych w niezależnych od siebie czasie i przestrzeni. Jest twórczynią opowiadania Bardo. Szopka, zawierającego opis ruchomej szopki z klasztoru redemptorystów w Bardzie. W pierwszej połowie października 2007 ukazała się jej powieść Bieguni. Pracowała nad nią trzy lata. Wspomina, że większość notatek robiła w czasie podróży. „Ale nie jest to książka o podróży. Nie ma w niej opisów zabytków i miejsc. Nie jest to dziennik podróży ani reportaż. Chciałam raczej przyjrzeć się temu, co to znaczy podróżować, poruszać się, przemieszczać. Jaki to ma sens? Co nam to daje? Co to znaczy” – napisała we wstępie. Jak mówi, „pisanie powieści jest dla mnie przeniesionym w dojrzałość opowiadaniem sobie samemu bajek. Tak jak to robią dzieci, zanim zasną. Posługują się przy tym językiem z pogranicza snu i jawy, opisują i zmyślają”. W rankingu tygodnika Wprost, obejmującym najlepiej zarabiających pisarzy w Polsce w 2019, zajęła 3. miejsce. Od 2019 asystentką Olgi Tokarczuk jest ukraińska poetka Iryna Wikyrczak. Była członkinią Stowarzyszenia Pisarzy Polskich do sierpnia 2020 roku. Działalność Była współorganizatorką Festiwalu Opowiadania, podczas którego autorzy krótkich form literackich z Polski i zagranicy prezentują swoje utwory. Prowadziła warsztaty prozatorskie w Studium Literacko-Artystycznym na Uniwersytecie Jagiellońskim w Krakowie. W 2008 prowadziła zajęcia z twórczego pisarstwa na Uniwersytecie Opolskim. Współpracowała z Partią Zielonych i była członkinią redakcji „Krytyki Politycznej”. Od 2015 organizuje w Nowej Rudzie i okolicach Festiwal Góry Literatury przy współudziale Karola Maliszewskiego, Stowarzyszenia Kulturalnego „Góry Babel” oraz miasta i gminy Nowa Ruda. W programie festiwalu znajdują się: akcje edukacyjne, debaty, koncerty, panele, pokazy, spotkania, Noworudzkie Spotkania z Poezją, warsztaty (filmowe, kulinarne i literackie) oraz wystawy. 2 grudnia 2019 we Wrocławiu zapowiedziała powołanie fundacji, z siedzibą w willi Tymoteusza Karpowicza przy ul. Krzyckiej 29, która za swoje cele obierze m.in. wspieranie i promocję polskiej kultury, w tym pisarzy i tłumaczy; działanie na rzecz praw człowieka, w tym przeciwdziałanie dyskryminacji i ograniczaniu swobód obywatelskich oraz ochronę środowiska, w tym walkę o prawa zwierząt. Pisarka na fundusz założycielski przekaże 350 tys. zł z nagrody Nobla. Fundacja ma być przestrzenią dla międzynarodowej rozmowy o możliwościach literatury w diagnozowaniu świata, w opisywaniu rzeczywistości, w której niebezpiecznie szybko narastają nastroje ksenofobiczne i nacjonalistyczne. Do jej rady powołani zostali Agnieszka Holland i Irek Grin, szef Wrocławskiego Domu Literatury. Poglądy, odbiór Jest feministką. Wspiera działania na rzecz ochrony środowiska, praw zwierząt, równouprawnienia i społeczeństwa obywatelskiego. Jest członkinią Rady Fundacji im. Stefana Batorego. Regularnie uczestniczy w paradach równości. Deklaruje, że nie należy do Kościoła katolickiego. W przemowie noblowskiej Wikipedię, którą podziwia i wspiera, porównała z koncepcją pansofii Jana Amosa Komenskiego, czyli omniscjencji – wiedzy pełnej. Jej działalność, poglądy oraz twórczość były kilkunastokrotnie obiektami krytyki ze strony niektórych mediów prawicowych i konserwatywnych, a także działaczy Prawa i Sprawiedliwości oraz Reduty Dobrego Imienia(ang.). Tłumacze Według Instytutu Książki do października 2019 ukazały się 193 tłumaczenia książek Olgi Tokarczuk. Następnych 12 pojawi się pod koniec 2019 i w 2020, m.in. w Bułgarii, Egipcie, Izraelu, Korei Południowej, Serbii i na Ukrainie. 90 tłumaczy przełożyło jej książki na 37 języków, w tym na najczęściej używane na świecie, m.in.: angielski, arabski, chiński, hindi, hiszpański, japoński, niemiecki, perski, portugalski i rosyjski. Adaptacje Prawiek i inne czasy (1997) – Teatr Wierszalin w Supraślu, reżyseria i adaptacja Sebastian Majewski. Bieguni (2021) – Teatr Powszechny w Warszawie, reżyseria Michał Zadara. Ekranizacje E.E. (1998, spektakl teatru telewizji na podstawie powieści pod tym samym tytułem; reż. Maria Zmarz-Koczanowicz, w roli Erny Eltzner wystąpiła Agata Buzek); Prawiek i inne czasy (1998, spektakl teatru telewizji na podstawie powieści pod tym samym tytułem; reż. Piotr Tomaszuk, w rolach głównych Joanna Kasperek i Jan Peszek); Numery (2000, spektakl teatru telewizji na podstawie opowiadania Numery z tomu Szafa; reż. Agnieszka Lipiec-Wróblewska, w roli Miss L. wystąpiła Ewa Dałkowska); Skarb (2000, spektakl teatru telewizji na motywach fragmentów powieści Dom dzienny, dom nocny; reż. Piotr Mularuk, w roli Krystyny Popłoch wystąpiła Maja Ostaszewska); Żurek (2003, film fabularny na podstawie opowiadania pod tym samym tytułem z tomu Gra na wielu bębenkach, reż. Ryszard Brylski); Miłości (2004, spektakl teatru telewizji na motywach opowiadań z tomu Gra na wielu bębenkach; reż. Filip Zylber); Aria Diva (2007, film fabularny krótkometrażowy na podstawie opowiadania Ariadna na Naksos z tomu Gra na wielu bębenkach, reż. Agnieszka Smoczyńska); Zniknięcie (2011, film fabularny krótkometrażowy na podstawie wątków powieści Bieguni, reż. Adam Uryniak); Glicynia (2016, krótkometrażowy), reż. Izabela Kiszczak Pokot (2017, film fabularny na podstawie powieści Prowadź swój pług przez kości umarłych, reż. Agnieszka Holland i Kasia Adamik). Noc w Mariandzie (Noc v Mariandu, 2019), reż. Matěj Chlupáček, Maja Hamplová, Martin Hradecký Nagrody 1993 Nagroda Polskiego Towarzystwa Wydawców Książek za Podróż ludzi Księgi 1996 Paszport „Polityki” – literatura 1997 Nagroda Literacka „Nike” Czytelników za Prawiek i inne czasy 1997 Nagroda Fundacji im. Kościelskich 1999 Nagroda Literacka „Nike” Czytelników za Dom dzienny, dom nocny 1999 Nagroda Literacka im. Władysława Reymonta 2002 Nagroda Literacka „Nike” Czytelników za książkę Gra na wielu bębenkach 2005.12.28 Honorowa Obywatelka Miasta i Gminy Bardo. 2007 Nagroda miesięcznika Odra za powieść Bieguni i wcześniejsze dzieła 2008 Nagroda Literacka „Nike” za powieść Bieguni 2008.10.05 Nagroda Literacka „Nike” Czytelników za powieść Bieguni 2008 Nagroda im. Samuela B. Lindego, polsko-niemiecka nagroda przyznawana przez władze partnerskich miast: Torunia i Getyngi 2009 Honorowa obywatelka Nowej Rudy 2010 nominowana do Nagrody Literackiej Nike za Prowadź swój pług przez kości umarłych 2013 Nagroda Vilenica, międzynarodowa, przyznawana pisarzom z Europy Środkowej 2014 Dolnośląska Nagroda Kulturalna „Silesia” Sejmiku Województwa Dolnośląskiego 2015 Nagroda Literacka „Nike” za Księgi Jakubowe 2015 Nagroda Literacka „Nike” Czytelników za Księgi Jakubowe 2015.05.22 Uhonorowana płytą z brązu w Alei Pisarzy przy MBP im. Ł. Górnickiego, Galeria Książki w Oświęcimiu 2015 Międzynarodowa Nagroda Mostu miast Görlitz i Zgorzelec 2016 „Zasłużona dla Miasta Wałbrzycha”, wyróżnienie Rady Miejskiej Wałbrzycha. 2017.01 Międzynarodowa Nagroda Literacka Samorządu Sztokholmu za Księgi Jakubowe 2017.05.27 Gwiazda w Alei Gwiazd Literatury przy Miejskiej Bibliotece Publicznej w Mińsku Mazowieckim. 2017.09.10 Nagroda IX Kongresu Kobiet, Poznań 2018.04.21 Nagroda Polcul Foundation „za działalność społeczną w dziedzinie kultury na Dolnym Śląsku” 2018.05.22 Nagroda The Man Booker International Prize 2018 za książkę Bieguni (Flights) Fitzcarraldo Editions, tł. Jennifer Croft 2019.06.24 Honorowa obywatelka Wrocławia 2019.07.08 Nagroda Laure-Bataillon dla najlepszej książki przełożonej na język francuski za Księgi Jakubowe 2019.10.10 Nagroda Nobla w dziedzinie literatury za 2018, za wyobraźnię narracyjną, która z encyklopedyczną pasją reprezentuje przekraczanie granic jako formę życia 2019.12.20 Uchwała Sejmu RP z okazji otrzymania przez O. Tokarczuk Nagrody Nobla. 2019.12.30 Uchwała Rady Miejskiej Nowej Rudy ustanawiająca rok 2020 Rokiem Olgi Tokarczuk w mieście Nowa Ruda. 2020.01.14 Paszport „Polityki” – nagroda specjalna Kreator Kultury 2020.06.18 Honorowy obywatel miasta stołecznego Warszawy 2020.09.20 Nagroda „La storia in un romanzo 2020” 2020.09.24 Honorowy Obywatel Dolnego Śląska „Civi Honorario” – tytuł nieprzyjęty. 2020.12.16 Doktor honoris causa Uniwersytetu Warszawskiego Odznaczenia Srebrny Medal „Zasłużony Kulturze Gloria Artis” – 2010 Odznaka Honorowa Złota „Zasłużony dla Województwa Dolnośląskiego” – 2018 Odznaka Honorowa Powiatu Kłodzkiego – 2019 Medal Senatu RP – 2019 \"\"\")"
      ],
      "metadata": {
        "id": "Z-ezNkoZdqoe"
      },
      "execution_count": 3,
      "outputs": []
    },
    {
      "cell_type": "code",
      "source": [
        "doc = nlp(tekst)\n",
        "\n",
        "for token in doc:\n",
        "    print(token.text, token.lemma_, token.pos_)\n",
        "\n",
        "for ent in doc.ents:\n",
        "    print(ent.text, ent.label_)\n",
        "\n",
        "rzeczowniki_count = 0\n",
        "przymiotniki_count = 0\n",
        "for token in doc:\n",
        "    if token.pos_ == \"NOUN\":\n",
        "        rzeczowniki_count += 1\n",
        "    elif token.pos_ == \"ADJ\":\n",
        "        przymiotniki_count += 1\n",
        "\n",
        "print(\"Liczba rzeczowników:\", rzeczowniki_count)\n",
        "print(\"Liczba przymiotników:\", przymiotniki_count)\n"
      ],
      "metadata": {
        "id": "aMP01H3ber39"
      },
      "execution_count": null,
      "outputs": []
    },
    {
      "cell_type": "code",
      "source": [
        "doc = nlp(tekst)\n",
        "\n",
        "for token in doc:\n",
        "    print(token.text, token.lemma_, token.pos_)\n",
        "\n",
        "for ent in doc.ents:\n",
        "    print(ent.text, ent.label_)\n",
        "\n",
        "\n",
        "osoby_count = 0\n",
        "daty_count = 0\n",
        "miejsca_count = 0\n",
        "organizacje_count = 0\n",
        "for ent in doc.ents:\n",
        "    if ent.label_ == \"PER\":\n",
        "        osoby_count += 1\n",
        "    elif ent.label_ == \"LOC\":\n",
        "        miejsca_count += 1\n",
        "    elif ent.label_ == \"ORG\":\n",
        "        organizacje_count += 1\n",
        "\n",
        "print(\"Liczba osób:\", osoby_count)\n",
        "print(\"Liczba miejsc:\", miejsca_count)\n",
        "print(\"Liczba organizacji:\", organizacje_count)"
      ],
      "metadata": {
        "id": "nOoRirJBeyvh"
      },
      "execution_count": null,
      "outputs": []
    }
  ]
}