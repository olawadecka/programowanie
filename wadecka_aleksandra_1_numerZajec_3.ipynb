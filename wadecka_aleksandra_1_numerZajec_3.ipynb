{
  "nbformat": 4,
  "nbformat_minor": 0,
  "metadata": {
    "colab": {
      "provenance": []
    },
    "kernelspec": {
      "name": "python3",
      "display_name": "Python 3"
    },
    "language_info": {
      "name": "python"
    }
  },
  "cells": [
    {
      "cell_type": "markdown",
      "source": [
        "Zadanie 1"
      ],
      "metadata": {
        "id": "2xiA5WIPP8Dr"
      }
    },
    {
      "cell_type": "code",
      "source": [
        "print(\"Uzupełnij formularz:\")\n",
        "imie = input(\"Jak masz na imię? \")\n",
        "if imie.isalpha() == True:\n",
        "  print(\"ok\")\n",
        "else:\n",
        "  print(\"imię powinno być wyrażane w literach. Uzupełnij ponownie\")\n",
        "  imie = input (\"Jak masz na imię? \")\n",
        "nazwisko = input(\"Jak masz na nazwisko? \")\n",
        "if nazwisko.isalpha() == True:\n",
        "  print(\"ok\")\n",
        "else:\n",
        "  print(\"nazwisko powinno być wyrażane w literach. Uzupełnij ponownie\")\n",
        "  nazwisko = input (\"Jak masz na nazwisko? \")\n",
        "wiek = input (\"Ile masz lat? \")\n",
        "if wiek.isdigit() == True:\n",
        "  print(\"ok\")\n",
        "  wiek_int = int(wiek)\n",
        "\n",
        "else:\n",
        "  print(\"wiek powinien być wyrażany w liczbach. Uzupełnij ponownie\")\n",
        "  wiek = input (\"Ile masz lat? \")\n",
        "\n",
        "haslo = input(\"Podaj hasło: \")\n",
        "powtorz_haslo = input(\"Powtórz hasło: \")\n",
        "\n",
        "if (haslo==powtorz_haslo):\n",
        "    print(\"Twoje hasła są zgodne, przejdź do kolejnego kroku.\")\n",
        "else:\n",
        "    print(\"Podane hasła nie są zgodne. Spróbuj ponownie.\")\n",
        "    haslo = input(\"Podaj hasło: \")\n",
        "    powtorz_haslo = input(\"Powtórz hasło: \")\n",
        "\n",
        "numer_telefonu = input(\"Podaj numer telefonu: \")\n",
        "\n",
        "numer_telefonu = \"\".join(filter(str.isdigit, numer_telefonu))  # Usuwanie spacji, myślników, itp.-  f. join łączy elementy w jeden str, \"\" to pusty str połączy bez dodatkowych znaków, .filter - wybiera tylko elementy, które określiliśmy warunkiem \"isdigit\", czyli sprawdza, znak czy jest cyfrą\n",
        "\n",
        "if len(numer_telefonu) == 9:\n",
        "    print(\"Numer telefonu jest poprawny\")\n",
        "else:\n",
        "    print(\"Numer telefonu jest niepoprawny. Spróbuj ponownie. Numer powinien zawierać 9 cyfr oraz występować w formie: 123456789, 123-456-789 lub 123 456 789\")\n",
        "    numer_telefonu = input(\"Podaj numer telefonu: \")\n",
        "\n",
        "\n",
        "\n",
        "print(\"Wprowadzone dane:\")\n",
        "print(\"Imię:\", imie)\n",
        "print(\"Nazwisko:\", nazwisko)\n",
        "print(\"Wiek:\", wiek)\n",
        "print(\"Hasło:\", haslo)\n",
        "print(\"Numer telefonu:\", numer_telefonu)"
      ],
      "metadata": {
        "colab": {
          "base_uri": "https://localhost:8080/"
        },
        "id": "YeOcwJPwh0Qt",
        "outputId": "051bbded-557d-465e-b11e-4324d5259546"
      },
      "execution_count": 34,
      "outputs": [
        {
          "output_type": "stream",
          "name": "stdout",
          "text": [
            "Uzupełnij formularz:\n",
            "Jak masz na imię? ola\n",
            "ok\n",
            "Jak masz na nazwisko? w\n",
            "ok\n",
            "Ile masz lat? 23\n",
            "ok\n",
            "Podaj hasło: ola1\n",
            "Powtórz hasło: ola1\n",
            "Twoje hasła są zgodne, przejdź do kolejnego kroku.\n",
            "Podaj numer telefonu: 123456789\n",
            "Numer telefonu jest poprawny\n",
            "Wprowadzone dane:\n",
            "Imię: ola\n",
            "Nazwisko: w\n",
            "Wiek: 23\n",
            "Hasło: ola1\n",
            "Numer telefonu: 123456789\n"
          ]
        }
      ]
    },
    {
      "cell_type": "markdown",
      "source": [
        "Zadanie 2"
      ],
      "metadata": {
        "id": "I2IZTuAVydvh"
      }
    },
    {
      "cell_type": "code",
      "source": [
        "liczba1 = input(\"Podaj pierwszą liczbę: \")\n",
        "\n",
        "if liczba1.isdigit():\n",
        "    liczba1 = float(liczba1)\n",
        "else:\n",
        "    print(\"Błąd: To nie jest cyfra. Wprowadź poprawną liczbę.\")\n",
        "    liczba1 = input(\"Podaj pierwszą liczbę: \")\n",
        "\n",
        "operacja = input(\"Podaj operację matematyczną (+,-,*,/,%,): \")\n",
        "\n",
        "liczba2 = input(\"Podaj drugą liczbę: \")\n",
        "\n",
        "if liczba2.isdigit():\n",
        "    liczba2 = float(liczba2)\n",
        "else:\n",
        "    print(\"Błąd: To nie jest cyfra. Wprowadź poprawną liczbę.\")\n",
        "    liczba2 = input(\"Podaj drugą liczbę: \")\n",
        "\n",
        "if operacja == \"+\":\n",
        "    wynik = liczba1 + liczba2\n",
        "elif operacja == \"-\":\n",
        "    wynik = liczba1 - liczba2\n",
        "elif operacja == \"*\":\n",
        "    wynik = liczba1 * liczba2\n",
        "elif operacja == \"/\":\n",
        "    if liczba2 == 0:\n",
        "        print(\"Błąd: Nie można dzielić przez zero.\")\n",
        "    else:\n",
        "        wynik = liczba1 / liczba2\n",
        "elif operacja == \"%\":\n",
        "    wynik = liczba1 % liczba2\n",
        "else:\n",
        "    print(\"Błąd: Niepoprawna operacja\")\n",
        "\n",
        "if operacja != \"/\" or (operacja == \"/\" and liczba2 != 0): #nie dzieli przez 0\n",
        "    print(\"Twój wynik to:\", wynik)\n"
      ],
      "metadata": {
        "colab": {
          "base_uri": "https://localhost:8080/"
        },
        "id": "ttfiYN3R9wUb",
        "outputId": "ac0267a6-6986-4c93-e872-0c25b04dbe31"
      },
      "execution_count": 4,
      "outputs": [
        {
          "output_type": "stream",
          "name": "stdout",
          "text": [
            "Podaj pierwszą liczbę: 2\n",
            "Podaj operację matematyczną (+,-,*,/,%,): /\n",
            "Podaj drugą liczbę: 4\n",
            "Twój wynik to: 0.5\n"
          ]
        }
      ]
    }
  ]
}