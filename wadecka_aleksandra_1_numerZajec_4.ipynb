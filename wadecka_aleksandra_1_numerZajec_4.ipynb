{
  "nbformat": 4,
  "nbformat_minor": 0,
  "metadata": {
    "colab": {
      "provenance": []
    },
    "kernelspec": {
      "name": "python3",
      "display_name": "Python 3"
    },
    "language_info": {
      "name": "python"
    }
  },
  "cells": [
    {
      "cell_type": "markdown",
      "source": [
        "Zadanie 1"
      ],
      "metadata": {
        "id": "u3pDHDNMfTQQ"
      }
    },
    {
      "cell_type": "code",
      "source": [
        "n = int(input(\"Podaj liczbę rzędów: \"))\n",
        "\n",
        "for i in range(1, n): #iteruje od 1 do n-1, więc będzie n-1 iteracji\n",
        "    for j in range(1, i + 1): #iteruje od 1 do i + 1, i = wartość z zewnętrznej pętli. Zaczyna od 1 dodaje i + 1, bo chce wydrukować cyfry od 1 do i.\n",
        "        print(j, end=\"\") #Wewnątrz pętli dajemy wartość j za pomocą funkcji print(j, end=\"\"). end=\"\" = po wypisaniu j nie będzie automatycznie wstawiany znak nowej linii = cyfry będą drukowane w jednym wierszu.\n",
        "    print()"
      ],
      "metadata": {
        "colab": {
          "base_uri": "https://localhost:8080/"
        },
        "id": "akAwfB5ufgN1",
        "outputId": "59631b82-499b-4388-d640-282b055966fa"
      },
      "execution_count": 3,
      "outputs": [
        {
          "output_type": "stream",
          "name": "stdout",
          "text": [
            "Podaj liczbę rzędów: 9\n",
            "1\n",
            "12\n",
            "123\n",
            "1234\n",
            "12345\n",
            "123456\n",
            "1234567\n",
            "12345678\n"
          ]
        }
      ]
    },
    {
      "cell_type": "markdown",
      "source": [
        "Zadanie 2"
      ],
      "metadata": {
        "id": "ZCxXrJXKjrr5"
      }
    },
    {
      "cell_type": "code",
      "source": [
        "n = 5  # ilość rzędów pierwszej części\n",
        "\n",
        "for i in range(1, n + 1): #iteruje od 1 do n + 1. tutaj jest to iteracja od 1 do 6\n",
        "    print('*' * i) #znak * x i = w pierwszym rzędzie 1 gwiazdka, w drugim rzędzie 2 gwiazdki itd.\n",
        "\n",
        "for i in range(n - 1, 0, -1): #Druga pętla for ozpoczyna się od n - 1 i iteruje w dół do 1 (zmniejszaja wartość i o 1)\n",
        "    print('*' * i)"
      ],
      "metadata": {
        "colab": {
          "base_uri": "https://localhost:8080/"
        },
        "id": "HGNfqDQnjs_L",
        "outputId": "b9870882-8a62-4c52-9dc6-5b4bdecb11fb"
      },
      "execution_count": 4,
      "outputs": [
        {
          "output_type": "stream",
          "name": "stdout",
          "text": [
            "*\n",
            "**\n",
            "***\n",
            "****\n",
            "*****\n",
            "****\n",
            "***\n",
            "**\n",
            "*\n"
          ]
        }
      ]
    },
    {
      "cell_type": "markdown",
      "source": [
        "Zadanie 3"
      ],
      "metadata": {
        "id": "Ry3672AFlecK"
      }
    },
    {
      "cell_type": "code",
      "source": [
        "\n",
        "lista = [6, 2, 3, 7, 1, 12, 56, 99]\n",
        "for i in range(len(lista)): #Pętla for przechodzi przez elementy listy numbers za pomocą indeksu i\n",
        "    if 10 <= lista[i] < 100: #if prawdza, czy element jest dwucyfrową liczbą\n",
        "        lista[i] = str(lista[i]) #jeśli warunek spełniony, element jest zamieniany na str = str(numbers[i])-->dwucyfrowe liczby są zamieniane na obiekty klasy String w liście.\n",
        "\n",
        "\n",
        "print(\"Zmieniona lista:\")\n",
        "for item in lista:\n",
        "    print(item)"
      ],
      "metadata": {
        "colab": {
          "base_uri": "https://localhost:8080/"
        },
        "id": "gWbGzCJomBlL",
        "outputId": "0324cfb7-b124-40f1-d612-860ec8875aa3"
      },
      "execution_count": 16,
      "outputs": [
        {
          "output_type": "stream",
          "name": "stdout",
          "text": [
            "Zmieniona lista:\n",
            "6\n",
            "2\n",
            "3\n",
            "7\n",
            "1\n",
            "12\n",
            "56\n",
            "99\n"
          ]
        }
      ]
    },
    {
      "cell_type": "code",
      "source": [
        "\n",
        "min_value = min(lista, key=lambda x: int(x) if isinstance(x, str) else x) #key sprawdza, czy elementy są liczbami całkowitymi, f.lambda przyjmuje argument x, który jest el. listy,\n",
        "#if isinstance(x, str) spr, czy x jest str, int(x) --> jeśli x jest str, to przerabia na l. całkowitą, else x-> jeśli x nie jest str, to zostaje tak, jak był\n",
        "print(\"Najmniejsza wartość:\", min_value)"
      ],
      "metadata": {
        "colab": {
          "base_uri": "https://localhost:8080/"
        },
        "id": "XqU_8pBHmX-t",
        "outputId": "3f253052-b36c-4334-ec89-0ee87745c84c"
      },
      "execution_count": 15,
      "outputs": [
        {
          "output_type": "stream",
          "name": "stdout",
          "text": [
            "Najmniejsza wartość: 1\n"
          ]
        }
      ]
    },
    {
      "cell_type": "markdown",
      "source": [
        "ZADANIA DODATKOWE"
      ],
      "metadata": {
        "id": "-BrlscLkqdfw"
      }
    },
    {
      "cell_type": "code",
      "source": [
        "x1 = input(\"wprowadź pierwszy napis: \")\n",
        "x2 = input(\"wprowadź drugi napis: \")\n",
        "if x1 == x2:\n",
        "  print(\"napisy są takie same\")\n",
        "else:\n",
        "  print(\"napisy nie są takie same\")"
      ],
      "metadata": {
        "colab": {
          "base_uri": "https://localhost:8080/"
        },
        "id": "-NxDUNfXqfC4",
        "outputId": "9ccaa6e2-6a8f-4c38-a6dd-217b36e93850"
      },
      "execution_count": 18,
      "outputs": [
        {
          "output_type": "stream",
          "name": "stdout",
          "text": [
            "wprowadź pierwszy napis: 0\n",
            "wprowadź drugi napis: 4\n",
            "napisy nie są takie same\n"
          ]
        }
      ]
    },
    {
      "cell_type": "code",
      "source": [
        "#1 czy wprowadzone przez użytkownika dane typu String są takie same\n",
        "\n",
        "x1 = input(\"wprowadź pierwszą liczbę: \")\n",
        "x2 = input(\"wprowadź drugą liczbę: \")\n",
        "if int(x1) == int(x2):\n",
        "  print(\"liczby są takie same\")"
      ],
      "metadata": {
        "colab": {
          "base_uri": "https://localhost:8080/"
        },
        "id": "ad5WsK8Wqlu4",
        "outputId": "4c25ea2f-20b1-4547-f899-33a1b7a587bd"
      },
      "execution_count": 20,
      "outputs": [
        {
          "output_type": "stream",
          "name": "stdout",
          "text": [
            "wprowadź pierwszą liczbę: 3\n",
            "wprowadź drugą liczbę: 3\n",
            "liczby są takie same\n"
          ]
        }
      ]
    },
    {
      "cell_type": "code",
      "source": [
        "# Konwersja wpisanych danych na integer+ czy wprowadzone dane są takie same\n",
        "x1 = input(\"wprowadź pierwszą liczbę: \")\n",
        "x2 = input(\"wprowadź drugą liczbę: \")\n",
        "if x1.isdigit() and x2.isdigit():\n",
        "  if int(x1) == int(x2):\n",
        "    print(\"liczby są takie same\")\n",
        "  else:\n",
        "    print(\"liczby nie są takie same\")\n",
        "else:\n",
        "  print(\"błędne dane\")"
      ],
      "metadata": {
        "colab": {
          "base_uri": "https://localhost:8080/"
        },
        "id": "fmXt_j0Kq1bV",
        "outputId": "427623ed-4047-44d3-d4d9-a40737709997"
      },
      "execution_count": 23,
      "outputs": [
        {
          "output_type": "stream",
          "name": "stdout",
          "text": [
            "wprowadź pierwszą liczbę: 3\n",
            "wprowadź drugą liczbę: F\n",
            "błędne dane\n"
          ]
        }
      ]
    },
    {
      "cell_type": "code",
      "source": [
        "#3. Konwersja wpisanych danych na integer+ czy wprowadzone dane są takie same, jeżeli w inpucie podano inne znaki, niż cyfry-> błąd\n",
        "\n",
        "x1 = input(\"wprowadź pierwszą liczbę: \")\n",
        "if x1.isdigit():\n",
        "  if int(x1) %2 == 0 :\n",
        "    print(\"liczba jest parzysta\")\n",
        "  else:\n",
        "    print(\"liczba nie jest parzysta\")\n",
        "else:\n",
        "  print(\"błędne dane\")"
      ],
      "metadata": {
        "colab": {
          "base_uri": "https://localhost:8080/"
        },
        "id": "rhVSllq_rJD-",
        "outputId": "2ffd9569-5d55-4d4d-a752-c1e0e17da547"
      },
      "execution_count": 24,
      "outputs": [
        {
          "output_type": "stream",
          "name": "stdout",
          "text": [
            "wprowadź pierwszą liczbę: 4\n",
            "liczba jest parzysta\n"
          ]
        }
      ]
    },
    {
      "cell_type": "code",
      "source": [
        "#czy użytkownik wpisał liczbę parzystą?\n",
        "x1 = input(\"wprowadź pierwszą liczbę: \")\n",
        "if x1.isdigit():\n",
        "  if int(x1) %2 == 0 :\n",
        "    print(\"liczba jest parzysta\")\n",
        "  else:\n",
        "    print(\"liczba nie jest parzysta\")\n",
        "else:\n",
        "  print(\"błędne dane\")"
      ],
      "metadata": {
        "colab": {
          "base_uri": "https://localhost:8080/"
        },
        "id": "6M3w8ga0ryza",
        "outputId": "61062239-ab17-4a1d-8a56-12a27d86a890"
      },
      "execution_count": 26,
      "outputs": [
        {
          "output_type": "stream",
          "name": "stdout",
          "text": [
            "wprowadź pierwszą liczbę: 1\n",
            "liczba nie jest parzysta\n"
          ]
        }
      ]
    },
    {
      "cell_type": "code",
      "source": [
        "#czy nieparzysta\n",
        "\n",
        "x1 = input(\"Wprowadź liczbę: \")\n",
        "\n",
        "if x1.isdigit():\n",
        "    if int(x1) % 2 != 0:\n",
        "        print(\"Liczba jest nieparzysta\")\n",
        "    else:\n",
        "        print(\"Liczba nie jest nieparzysta\")\n",
        "else:\n",
        "    print(\"Błędne dane\")\n"
      ],
      "metadata": {
        "colab": {
          "base_uri": "https://localhost:8080/"
        },
        "id": "xSFpq_f6r75r",
        "outputId": "63e0b718-99d4-46db-d26a-896060e05bd8"
      },
      "execution_count": 31,
      "outputs": [
        {
          "output_type": "stream",
          "name": "stdout",
          "text": [
            "Wprowadź liczbę: e\n",
            "Błędne dane\n"
          ]
        }
      ]
    },
    {
      "cell_type": "code",
      "source": [
        "#czy suma jest parzysta\n",
        "x1 = input(\"Wprowadź pierwszą liczbę: \")\n",
        "x2 = input(\"Wprowadź drugą liczbę: \")\n",
        "\n",
        "if x1.isdigit() and x2.isdigit():\n",
        "    cyfra1 = int(x1)\n",
        "    cyfra2 = int(x2)\n",
        "\n",
        "    suma = cyfra1 + cyfra2\n",
        "\n",
        "    if suma % 2 == 0:\n",
        "        print(\"Suma liczb\", cyfra1, \"i\", cyfra2, \"jest liczbą parzystą\")\n",
        "    else:\n",
        "        print(\"Suma liczb\", cyfra1, \"i\", cyfra2, \"nie jest liczbą parzystą\")\n",
        "else:\n",
        "    print(\"Błędne dane\")\n"
      ],
      "metadata": {
        "colab": {
          "base_uri": "https://localhost:8080/"
        },
        "id": "2XNQ2dDwshyN",
        "outputId": "2b5e5b2e-dca4-4581-80e5-d8df0bf8c0b7"
      },
      "execution_count": 36,
      "outputs": [
        {
          "output_type": "stream",
          "name": "stdout",
          "text": [
            "Wprowadź pierwszą liczbę: 4\n",
            "Wprowadź drugą liczbę: 5\n",
            "Suma liczb 4 i 5 nie jest liczbą parzystą\n"
          ]
        }
      ]
    },
    {
      "cell_type": "code",
      "source": [
        "#Sprawdź, czy podane przez użytkownika hasło spełnia następujące warunki\n",
        "  # -  przynajmniej jedna mała i jedna wielka litera\n",
        "  # -  przynajmniej jedna cyfra\n",
        "  # - przynajmniej jeden znak specjalny\n",
        "  # - minimum 3 znaki długości\n",
        "  # - maksymalnie 18 znaków długości\n",
        "\n",
        "haslo = input(\"Wprowadź hasło: \")\n",
        "\n",
        "if 3 <= len(haslo) <= 18:\n",
        "    mala_litera = False\n",
        "    wielka_litera = False\n",
        "    cyfra = False\n",
        "    znak_specjalny = False\n",
        "\n",
        "    for znak in haslo:\n",
        "        if znak.islower():\n",
        "            mala_litera = True\n",
        "        if znak.isupper():\n",
        "            wielka_litera = True\n",
        "        if znak.isdigit():\n",
        "            cyfra = True\n",
        "        if znak in \"!@#$%^&*()_+{}[]:;<>,.?~\\\\|\":\n",
        "            znak_specjalny = True\n",
        "\n",
        "    if mala_litera and wielka_litera and cyfra and znak_specjalny:\n",
        "        print(\"Poprawne hasło.\")\n",
        "    else:\n",
        "        print(\"Hasło musi spełniać wszystkie wymagania\")\n",
        "else:\n",
        "    print(\"Twoje hasło jest zbyt krótkie lub zbyt długie powinno zawierać minimum 3, maksimum 18 znaków.\")\n"
      ],
      "metadata": {
        "colab": {
          "base_uri": "https://localhost:8080/"
        },
        "id": "SSIz8KQ5tKa9",
        "outputId": "b8611acf-4179-428e-99db-8321f45d8576"
      },
      "execution_count": 40,
      "outputs": [
        {
          "output_type": "stream",
          "name": "stdout",
          "text": [
            "Wprowadź hasło: Ola123!\n",
            "Poprawne hasło.\n"
          ]
        }
      ]
    },
    {
      "cell_type": "code",
      "source": [
        "#czy samogłoska czy spółgłoska\n",
        "litera = input(\"Wprowadź literę: \")\n",
        "\n",
        "if len(litera) == 1 and litera.isalpha():\n",
        "    if litera in \"aeiouy\":\n",
        "        print(\"To jest samogłoska.\")\n",
        "    else:\n",
        "        print(\"To jest spółgłoska.\")\n",
        "else:\n",
        "    print(\"To nie jest litera lub wpisałeś więcej niż jedną literę.\")\n"
      ],
      "metadata": {
        "colab": {
          "base_uri": "https://localhost:8080/"
        },
        "id": "sFL0YNTLuKQw",
        "outputId": "78b3ffe4-3786-4e13-ceb3-87faffbc5405"
      },
      "execution_count": 42,
      "outputs": [
        {
          "output_type": "stream",
          "name": "stdout",
          "text": [
            "Wprowadź literę: a\n",
            "To jest samogłoska.\n"
          ]
        }
      ]
    },
    {
      "cell_type": "code",
      "source": [
        "# z ilu dni składa się miesiąc\n",
        "nie umiem :("
      ],
      "metadata": {
        "colab": {
          "base_uri": "https://localhost:8080/",
          "height": 143
        },
        "id": "7F9kEKSbudxD",
        "outputId": "466ed69b-f53b-4aea-998a-80703430494f"
      },
      "execution_count": 44,
      "outputs": [
        {
          "output_type": "error",
          "ename": "SyntaxError",
          "evalue": "ignored",
          "traceback": [
            "\u001b[0;36m  File \u001b[0;32m\"<ipython-input-44-300bc6793143>\"\u001b[0;36m, line \u001b[0;32m2\u001b[0m\n\u001b[0;31m    nie umiem :(\u001b[0m\n\u001b[0m        ^\u001b[0m\n\u001b[0;31mSyntaxError\u001b[0m\u001b[0;31m:\u001b[0m invalid syntax\n"
          ]
        }
      ]
    },
    {
      "cell_type": "code",
      "source": [
        "#która z 3 podanych przez użytkownika jest największa oraz najmniejsza\n",
        "\n",
        "liczba1 = float(input(\"Podaj pierwszą liczbę: \"))\n",
        "liczba2 = float(input(\"Podaj drugą liczbę: \"))\n",
        "liczba3 = float(input(\"Podaj trzecią liczbę: \"))\n",
        "\n",
        "najwieksza = max(liczba1, liczba2, liczba3)\n",
        "\n",
        "najmniejsza = min(liczba1, liczba2, liczba3)\n",
        "\n",
        "print(\"Największa liczba to:\" , najwieksza)\n",
        "print(\"Najmniejsza liczba to:\" , najmniejsza)\n"
      ],
      "metadata": {
        "colab": {
          "base_uri": "https://localhost:8080/"
        },
        "id": "jIvE1PK6u7pQ",
        "outputId": "508aa6e1-51ac-47d2-c376-4803c30d43b9"
      },
      "execution_count": 47,
      "outputs": [
        {
          "output_type": "stream",
          "name": "stdout",
          "text": [
            "Podaj pierwszą liczbę: 5\n",
            "Podaj drugą liczbę: 6\n",
            "Podaj trzecią liczbę: 7\n",
            "Największa liczba to: 7.0\n",
            "Najmniejsza liczba to: 5.0\n"
          ]
        }
      ]
    },
    {
      "cell_type": "code",
      "source": [
        "#odwrócony napis\n",
        "napis = input(\"Wpisz napis: \")\n",
        "\n",
        "odwrocony_napis = napis[::-1]\n",
        "\n",
        "print(\"odwrócony napis: \", odwrocony_napis)\n"
      ],
      "metadata": {
        "colab": {
          "base_uri": "https://localhost:8080/"
        },
        "id": "EeOedz_0vy8N",
        "outputId": "eb050edd-4526-4195-aa08-759422f10f2b"
      },
      "execution_count": 48,
      "outputs": [
        {
          "output_type": "stream",
          "name": "stdout",
          "text": [
            "Wpisz napis: ola\n",
            "odwrócony napis:  alo\n"
          ]
        }
      ]
    },
    {
      "cell_type": "code",
      "source": [
        "#wyświetl liczby 3:18\n",
        "for liczba in range(3, 19):\n",
        "    print(liczba)"
      ],
      "metadata": {
        "colab": {
          "base_uri": "https://localhost:8080/"
        },
        "id": "lrhaAxIJwEcf",
        "outputId": "68a3a501-33aa-419c-d05c-f83dc40e2270"
      },
      "execution_count": 49,
      "outputs": [
        {
          "output_type": "stream",
          "name": "stdout",
          "text": [
            "3\n",
            "4\n",
            "5\n",
            "6\n",
            "7\n",
            "8\n",
            "9\n",
            "10\n",
            "11\n",
            "12\n",
            "13\n",
            "14\n",
            "15\n",
            "16\n",
            "17\n",
            "18\n"
          ]
        }
      ]
    },
    {
      "cell_type": "code",
      "source": [
        "#zamiana na co drugą literę w słowie PROGRAMOWANIE na dowolny inny znak\n",
        "nie umiem :("
      ],
      "metadata": {
        "id": "AnJU8Q_LwOO-"
      },
      "execution_count": null,
      "outputs": []
    },
    {
      "cell_type": "code",
      "source": [
        "#przyjmie listę [1, 2, 3, 4, 5] i w wyniku zwróci wartości pomnożone przez liczbę podaną\n",
        "\n",
        "lista = [1, 2, 3, 4, 5]\n",
        "liczba = float(input(\"Podaj liczbę do pomnożenia: \"))\n",
        "wynik = [x * liczba for x in lista]\n",
        "\n",
        "print(\"Wynik mnożenia:\", wynik)\n",
        "\n"
      ],
      "metadata": {
        "colab": {
          "base_uri": "https://localhost:8080/"
        },
        "id": "cSWMZAXZweDd",
        "outputId": "543f822a-5621-4763-fcbb-f8c24de09b32"
      },
      "execution_count": 50,
      "outputs": [
        {
          "output_type": "stream",
          "name": "stdout",
          "text": [
            "Podaj liczbę do pomnożenia: 5\n",
            "Wynik mnożenia: [5.0, 10.0, 15.0, 20.0, 25.0]\n"
          ]
        }
      ]
    },
    {
      "cell_type": "code",
      "source": [
        "#przyjmie od użytkownika dwie liczby. Następnie wyświetli użytkownikowi wszystkie liczby znajdujące się pomiędzy tymi dwiema liczbami\n",
        "#np dla 1 oraz 4 wypisze 1,2,3,4\n",
        "\n",
        "nie umiem :("
      ],
      "metadata": {
        "id": "L14iH4TMw1z8"
      },
      "execution_count": null,
      "outputs": []
    },
    {
      "cell_type": "code",
      "source": [
        "#suma wszystkich liczb w liście\n",
        "\n",
        "lista = [1, 2, 3, 4, 5]\n",
        "suma = sum(lista)\n",
        "print(\"Suma liczb w liście:\", suma)\n"
      ],
      "metadata": {
        "colab": {
          "base_uri": "https://localhost:8080/"
        },
        "id": "B6B4r3IvxF3D",
        "outputId": "c25e7135-776f-4d5b-8bb1-d41acbf9f636"
      },
      "execution_count": 51,
      "outputs": [
        {
          "output_type": "stream",
          "name": "stdout",
          "text": [
            "Suma liczb w liście: 15\n"
          ]
        }
      ]
    },
    {
      "cell_type": "code",
      "source": [
        "#Napisz program, który poda sumę wszystkich n liczb, gdzie n to liczba podana przez użytkownika. Np. dla n = 3\n",
        "nie rozumiem polecenia, co powinno tu końcowo wyjść?"
      ],
      "metadata": {
        "id": "vwx3rgK2xX3C"
      },
      "execution_count": null,
      "outputs": []
    },
    {
      "cell_type": "code",
      "source": [
        "#Napisz program, który przyjmie następującą listę [\\\"Ala\\\", \\\"Patryk\\\", \\\"Jacek\\\"]\n",
        "#i zamieni wszystkie litery znajdujące się na parzystych indeksach na cyfry\\n\"\n",
        "nie umiem :("
      ],
      "metadata": {
        "id": "1JT6DvELxzCm"
      },
      "execution_count": null,
      "outputs": []
    },
    {
      "cell_type": "code",
      "source": [
        "#fizz\n",
        "też niestety nie mam pojęcia"
      ],
      "metadata": {
        "id": "iaD15fGayrKS"
      },
      "execution_count": null,
      "outputs": []
    }
  ]
}